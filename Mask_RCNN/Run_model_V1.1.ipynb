# Code runs in Jupiter Notebook

# Libraries
import cv2
import os
import sys
import random
import math
import numpy as np
import skimage.io
import matplotlib
import matplotlib.pyplot as plt

import coco
import utils
import model as modellib
import visualize

%matplotlib inline 

# 0 for camera / 1 for preselected image
imageSelect = 1

# Root directory of the project
ROOT_DIR = os.getcwd()

# Directory to save logs and trained model
MODEL_DIR = os.path.join(ROOT_DIR, "logs")

# Path to trained weights file
COCO_MODEL_PATH = os.path.join(ROOT_DIR, "models/mask_rcnn_model_version_1.2.3_0020.h5")

# Directory of images to run detection on
IMAGE_DIR = os.path.join(ROOT_DIR, "images")

class InferenceConfig(coco.CocoConfig):
    # Set batch size to 1 since we'll be running inference on
    # one image at a time. Batch size = GPU_COUNT * IMAGES_PER_GPU
    GPU_COUNT = 1
    IMAGES_PER_GPU = 1
    # Background + number of classes
    NUM_CLASSES = 1 + 2 
    # The minimal confidance of box
    DETECTION_MIN_CONFIDENCE = 0.9

config = InferenceConfig()
config.display()

# Create model object in inference mode.
model = modellib.MaskRCNN(mode="inference", model_dir=MODEL_DIR, config=config)

# Load weights trained on MS-COCO
model.load_weights(COCO_MODEL_PATH, by_name=True)

# Custom COCO Class names
class_names = ['BG', 'snail', 'slug']

# if else statment to select image input
if imageSelect == 0:
    # Capture image from camera
    videoCaptureObject = cv2.VideoCapture(1) # 0 for webcame / 1 for external camera
    result = True
    while(result):
        ret,frame = videoCaptureObject.read()
        cv2.imwrite("images/NewPicture.jpg",frame) # write picture to images folder
        result = False
    videoCaptureObject.release()
    cv2.destroyAllWindows()
    # Load captured image from images folder
    image = skimage.io.imread(os.path.join(IMAGE_DIR, 'NewPicture.jpg'))
    
elif imageSelect == 1:
    image = skimage.io.imread(os.path.join(IMAGE_DIR, 'picture145.jpg'))
    
else:
    print("imageSelect error")
    
# Run detection
results = model.detect([image], verbose=1)

# Visualize results
r = results[0]
visualize.display_instances(image, r['rois'], r['masks'], r['class_ids'], class_names, r['scores'])

# Save results
visualize.save_instances(image, r['rois'], r['masks'], r['class_ids'], class_names, r['scores'])
